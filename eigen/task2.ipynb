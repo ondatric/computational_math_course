{
 "cells": [
  {
   "cell_type": "code",
   "execution_count": 6,
   "metadata": {},
   "outputs": [],
   "source": [
    "import numpy as np"
   ]
  },
  {
   "cell_type": "code",
   "execution_count": 7,
   "metadata": {},
   "outputs": [],
   "source": [
    "def R(A):\n",
    "    A1 = np.array(A, float)\n",
    "    N = len(A)\n",
    "    W = np.zeros((N-1,N), float)\n",
    "    for i in range(0, N-1, 1):\n",
    "        A0 = A1\n",
    "        s = (sum(A0[i:, i]**2))**0.5\n",
    "        if (s - A0[i, i]) == 0:\n",
    "            return np.zeros(N), np.zeros(N)\n",
    "        mu = (2*s*(s-A0[i, i]))**(-0.5)\n",
    "        W[i, :] = mu*np.array([row[i] for row in A0])\n",
    "        W[i, i] = mu*(A0[i, i] - s)\n",
    "        W[i, :i] = 0\n",
    "        A1 = np.dot((np.identity(N,float)-2*np.outer(np.transpose(W[i]), W[i])), A0)\n",
    "    \n",
    "    Q0 = (np.identity(N,float)-2*np.outer(np.transpose(W[0]), W[0]))\n",
    "    for j in range(1,N-1,1):\n",
    "        Q0 = np.dot(Q0, (np.identity(N,float)-2*np.outer(np.transpose(W[j]), W[j])))\n",
    "    \n",
    "    return A1, Q0\n",
    "\n",
    "def qr(A, acc, it_max):\n",
    "    k = 0\n",
    "    R0, Q0 = R(A)\n",
    "    R1, Q1 = R(np.dot(R0, Q0))\n",
    "    while not ((np.diag(R1)-np.diag(R0))>acc).all() and k<it_max:\n",
    "        R0, Q0 = R(np.dot(R1, Q1))\n",
    "        if R0.all() == np.zeros(len(A)).all():\n",
    "            return R1\n",
    "        R1, Q1 = R(np.dot(R0, Q0))\n",
    "        if R1.all() == np.zeros(len(A)).all():\n",
    "            return R0\n",
    "        k+=1\n",
    "    print(k)\n",
    "    return R1"
   ]
  },
  {
   "cell_type": "code",
   "execution_count": 8,
   "metadata": {},
   "outputs": [
    {
     "name": "stdout",
     "output_type": "stream",
     "text": [
      "[ 4.0000002   2.05585139 -2.45676155]\n"
     ]
    }
   ],
   "source": [
    "A = np.array([[5, 6, 3],[-1, 0, 1],[1, 2, -1]])\n",
    "res = qr(A, 0.00001, 11)\n",
    "print(np.diag(res))"
   ]
  }
 ],
 "metadata": {
  "kernelspec": {
   "display_name": "Python 3",
   "language": "python",
   "name": "python3"
  },
  "language_info": {
   "codemirror_mode": {
    "name": "ipython",
    "version": 3
   },
   "file_extension": ".py",
   "mimetype": "text/x-python",
   "name": "python",
   "nbconvert_exporter": "python",
   "pygments_lexer": "ipython3",
   "version": "3.7.3"
  }
 },
 "nbformat": 4,
 "nbformat_minor": 4
}
