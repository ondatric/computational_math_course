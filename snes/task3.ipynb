{
 "cells": [
  {
   "cell_type": "code",
   "execution_count": 1,
   "metadata": {},
   "outputs": [],
   "source": [
    "import numpy as np"
   ]
  },
  {
   "cell_type": "code",
   "execution_count": 4,
   "metadata": {},
   "outputs": [],
   "source": [
    "def F(x):\n",
    "    y = np.zeros_like(x)\n",
    "    y[0] = (3 + 2*x[0])*x[0] - 2*x[1] - 3\n",
    "    y[1:-1] = (3 + 2*x[1:-1])*x[1:-1] - x[:-2] - 2*x[2:] -2\n",
    "    y[-1] = (3 + 2*x[-1])*x[-1] - x[-2] - 4\n",
    "    return y\n",
    "\n",
    "def J(x):\n",
    "    n = len(x)\n",
    "    jac = np.zeros((n, n))\n",
    "    jac[0, 0] = 3 + 4*x[0]\n",
    "    jac[0, 1] = -2\n",
    "    for i in range(n-1):\n",
    "        jac[i, i-1] = -1\n",
    "        jac[i, i] = 3 + 4*x[i]\n",
    "        jac[i, i+1] = -2\n",
    "    jac[-1, -2] = -1\n",
    "    jac[-1, -1] = 3 + 4*x[-1]\n",
    "    return jac\n",
    "\n",
    "def newton(F, J, guess):\n",
    "    N = len(guess)\n",
    "    delta = np.ones(N)\n",
    "    x = np.array(guess, float)\n",
    "    acc = 0.001\n",
    "    k = 0\n",
    "    while max(abs(delta)) > acc and k < 50:\n",
    "        delta = np.linalg.solve(J(x), -F(x))\n",
    "        x = x + delta\n",
    "        k += 1\n",
    "    return x, k"
   ]
  },
  {
   "cell_type": "code",
   "execution_count": 10,
   "metadata": {},
   "outputs": [
    {
     "name": "stdout",
     "output_type": "stream",
     "text": [
      "[0.99999946 0.99999992 0.99999999 1.         1.         1.\n",
      " 1.         1.         1.         1.        ]\n"
     ]
    }
   ],
   "source": [
    "n = 10\n",
    "guess = 3*np.ones(n)\n",
    "sol, its = newton(F, J, guess)\n",
    "print(sol)\n"
   ]
  }
 ],
 "metadata": {
  "kernelspec": {
   "display_name": "Python 3",
   "language": "python",
   "name": "python3"
  },
  "language_info": {
   "codemirror_mode": {
    "name": "ipython",
    "version": 3
   },
   "file_extension": ".py",
   "mimetype": "text/x-python",
   "name": "python",
   "nbconvert_exporter": "python",
   "pygments_lexer": "ipython3",
   "version": "3.7.3"
  }
 },
 "nbformat": 4,
 "nbformat_minor": 4
}
