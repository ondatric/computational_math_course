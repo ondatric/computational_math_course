{
 "cells": [
  {
   "cell_type": "code",
   "execution_count": 69,
   "metadata": {},
   "outputs": [],
   "source": [
    "import numpy as np\n",
    "from math import sqrt"
   ]
  },
  {
   "cell_type": "code",
   "execution_count": 70,
   "metadata": {},
   "outputs": [],
   "source": [
    "def jacobi(A,b,x0,acc,it_max):                    \n",
    "    t = 0                                        \n",
    "    for i in range(0,len(A),1):                \n",
    "        if 2*abs(A[i,i])>np.sum(abs(A[i])):\n",
    "            t += 1\n",
    "        else:\n",
    "            break\n",
    "    if t == len(A):\n",
    "        x = np.zeros((2,len(A)),float)\n",
    "        x[1,:] = x0\n",
    "        k = 0\n",
    "        while sqrt(sum((x[1]-x[0])**2))>acc and k<it_max:\n",
    "            x[0,:] = x[1,:]\n",
    "            for i in range(0,len(A),1):\n",
    "                x[1,i] = (b[i]-(sum(A[i,:i]*x[0,:i])+sum(A[i,i+1:]*x[0,i+1:])))/A[i,i]\n",
    "            k += 1\n",
    "            return x[1]\n",
    "    else:\n",
    "        print(\"---Matrix is not correct!---\")\n",
    "        return x0,0,0\n",
    "\n",
    "def jacobi_vec(A,b,x0,acc,it_max):\n",
    "    t = 0\n",
    "    for i in range(0,len(A),1):\n",
    "        if 2*abs(A[i,i])>np.sum(abs(A[i])):\n",
    "            t += 1\n",
    "        else:\n",
    "            break\n",
    "            \n",
    "    if t == len(A):\n",
    "        \n",
    "        L = np.zeros((len(A),len(A)),float)\n",
    "        U = np.zeros((len(A),len(A)),float)\n",
    "        D = np.zeros((len(A),len(A)),float)\n",
    "        \n",
    "        for i in range(0,len(A),1):\n",
    "            L[i,:i] = A[i,:i]\n",
    "            D[i,i] = A[i,i]    \n",
    "            U[i,i+1:] = A[i,i+1:]\n",
    "        x = np.zeros((2,len(A)),float)\n",
    "        x[1,:] = x0\n",
    "        k = 0\n",
    "        \n",
    "        while sqrt(sum((x[1]-x[0])**2))>acc and k<it_max:\n",
    "            x[0,:] = x[1,:]\n",
    "            x[1] = np.dot(np.linalg.inv(D),(np.dot(-(L+U),x[0])+b))\n",
    "            k += 1\n",
    "            return x[1]\n",
    "    else:\n",
    "        print(\"---Matrix is not correct!---\")\n",
    "        return x0,0,0"
   ]
  },
  {
   "cell_type": "code",
   "execution_count": 71,
   "metadata": {},
   "outputs": [
    {
     "name": "stdout",
     "output_type": "stream",
     "text": [
      "[[ 2.  -0.8  0. ]\n",
      " [-0.8  2.  -0.8]\n",
      " [ 0.  -0.8  2. ]]\n",
      "[0.8 0.  1.2]\n"
     ]
    }
   ],
   "source": [
    "N = 3\n",
    "alfa = 0.2\n",
    "A = np.zeros((N,N),float)\n",
    "b = np.zeros(N)\n",
    "x0 = np.zeros(N)\n",
    "A[0,0] = 2\n",
    "A[0,1] = -1+alfa\n",
    "A[N-1,N-1] = 2\n",
    "A[N-1,N-2] = -1+alfa\n",
    "b[0] = 1-alfa\n",
    "b[N-1] = 1+alfa\n",
    "x0[0] = 0.7\n",
    "x0[N-1] = 0.8\n",
    "for i in range(1,N-1,1):\n",
    "    A[i,i]=2\n",
    "    A[i,i+1]=-1+alfa\n",
    "    A[i,i-1]=-1+alfa\n",
    "    b[i]=0\n",
    "    x0[i]=0.1*i\n",
    "    \n",
    "print(A)\n",
    "print(b)\n",
    "\n",
    "b = np.dot(A,x)\n",
    "sol = jacobi(A, b, x0, 1/10000, 1000)\n",
    "sol_v = jacobi_vec(A, b, x0, 1/10000, 1000)"
   ]
  },
  {
   "cell_type": "code",
   "execution_count": 72,
   "metadata": {},
   "outputs": [
    {
     "data": {
      "text/plain": [
       "array([ 0.30747413, -0.14146139,  0.30747413])"
      ]
     },
     "execution_count": 72,
     "metadata": {},
     "output_type": "execute_result"
    }
   ],
   "source": [
    "x - sol"
   ]
  },
  {
   "cell_type": "code",
   "execution_count": 73,
   "metadata": {},
   "outputs": [
    {
     "data": {
      "text/plain": [
       "array([ 0.30747413, -0.14146139,  0.30747413])"
      ]
     },
     "execution_count": 73,
     "metadata": {},
     "output_type": "execute_result"
    }
   ],
   "source": [
    "x - sol_v"
   ]
  }
 ],
 "metadata": {
  "kernelspec": {
   "display_name": "Python 3",
   "language": "python",
   "name": "python3"
  },
  "language_info": {
   "codemirror_mode": {
    "name": "ipython",
    "version": 3
   },
   "file_extension": ".py",
   "mimetype": "text/x-python",
   "name": "python",
   "nbconvert_exporter": "python",
   "pygments_lexer": "ipython3",
   "version": "3.7.3"
  }
 },
 "nbformat": 4,
 "nbformat_minor": 4
}
