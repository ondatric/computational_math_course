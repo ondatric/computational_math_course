{
 "cells": [
  {
   "cell_type": "code",
   "execution_count": 1,
   "metadata": {},
   "outputs": [],
   "source": [
    "import numpy as np"
   ]
  },
  {
   "cell_type": "code",
   "execution_count": 2,
   "metadata": {},
   "outputs": [],
   "source": [
    "def lu3(A):\n",
    "    d = np.array(A[0]);\n",
    "    el = np.array(A[1]);\n",
    "    eu = np.array(A[2]);\n",
    "    for i in range(len(el)):\n",
    "        t = -el[i]/d[i];\n",
    "        el[i] = -t;\n",
    "        d[i+1] = d[i+1] - t;\n",
    "    return [d, el, eu];\n",
    "\n",
    "def solve_lu3(A, b):\n",
    "    LU = lu3(A);\n",
    "    d = np.array(LU[0]);\n",
    "    el = np.array(LU[1]);\n",
    "    eu = np.array(LU[2]);\n",
    "    b = np.array(b, float);\n",
    "    \n",
    "    for i in range(1, len(b)):\n",
    "        b[i] -= b[i-1]*el[i-1];\n",
    "        \n",
    "    b[-1] = b[-1]/d[-1];\n",
    "    for i in range(len(el)-1, -1, -1):\n",
    "        b[i] = (b[i] - b[i+1]*eu[i])/d[i]\n",
    "    return b;"
   ]
  },
  {
   "cell_type": "code",
   "execution_count": 5,
   "metadata": {},
   "outputs": [
    {
     "data": {
      "text/plain": [
       "array([1.875, 3.625, 5.25 , 6.75 ])"
      ]
     },
     "execution_count": 5,
     "metadata": {},
     "output_type": "execute_result"
    }
   ],
   "source": [
    "n = 4;\n",
    "h = 1/n;\n",
    "d = np.array([2. for _ in range(n)]);\n",
    "el = np.array([-1. for _ in range(n-1)]);\n",
    "eu = np.array([-1. for _ in range(n-1)]);\n",
    "b = np.append([2*h**2 for _ in range(n-1)], [-(n-1)*h*(1-(n-1)/h)]);\n",
    "A = [d,el,eu];\n",
    "expected = np.array([i*h*(1-i*h) for i in range(n)]);\n",
    "solve_lu3(A,b)"
   ]
  },
  {
   "cell_type": "code",
   "execution_count": 4,
   "metadata": {},
   "outputs": [
    {
     "data": {
      "text/plain": [
       "array([0.    , 0.1875, 0.25  , 0.1875])"
      ]
     },
     "execution_count": 4,
     "metadata": {},
     "output_type": "execute_result"
    }
   ],
   "source": [
    "expected"
   ]
  }
 ],
 "metadata": {
  "kernelspec": {
   "display_name": "Python 3",
   "language": "python",
   "name": "python3"
  },
  "language_info": {
   "codemirror_mode": {
    "name": "ipython",
    "version": 3
   },
   "file_extension": ".py",
   "mimetype": "text/x-python",
   "name": "python",
   "nbconvert_exporter": "python",
   "pygments_lexer": "ipython3",
   "version": "3.7.3"
  }
 },
 "nbformat": 4,
 "nbformat_minor": 4
}
