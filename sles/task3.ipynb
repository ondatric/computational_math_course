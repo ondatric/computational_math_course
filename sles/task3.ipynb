{
 "cells": [
  {
   "cell_type": "code",
   "execution_count": 15,
   "metadata": {},
   "outputs": [],
   "source": [
    "import numpy as np\n",
    "from math import sqrt"
   ]
  },
  {
   "cell_type": "code",
   "execution_count": 16,
   "metadata": {},
   "outputs": [],
   "source": [
    "def cholesky(A):\n",
    "    L=np.zeros((len(A),len(A)),float)\n",
    "    for i in range(0,len(A),1):\n",
    "        temp1=0\n",
    "        temp2=0\n",
    "        for j in range(0,i,1):\n",
    "            for k in range(0,j,1):\n",
    "                temp1=temp1+L[i,k]*L[j,k]\n",
    "            L[i,j]=(A[i,j]-temp1)/L[j,j]\n",
    "        for t in range(0,i,1):\n",
    "            temp2=temp2+L[i,t]*L[i,t]\n",
    "        L[i,i]=sqrt(A[i,i]-temp2)\n",
    "    return L\n",
    "\n",
    "def sol_niztr(C,b):\n",
    "    y=np.zeros(len(C))\n",
    "    for i in range(0,len(C),1):\n",
    "        temp=0\n",
    "        for j in range (0,i,1):\n",
    "            temp=temp+C[i,j]*y[j]\n",
    "        y[i]=(b[i]-temp)/C[i,i]\n",
    "    return(y)\n",
    "\n",
    "def sol_vertr(CT,y):\n",
    "    x=np.zeros(len(CT),float)\n",
    "    for i in range (len(CT),0,-1):\n",
    "        temp=0\n",
    "        for j in range (i,len(CT),1):\n",
    "            temp=temp+CT[i-1,j]*x[j]\n",
    "        x[i-1]=(y[i-1]-temp)/CT[i-1,i-1]\n",
    "    return(x)"
   ]
  },
  {
   "cell_type": "code",
   "execution_count": 17,
   "metadata": {},
   "outputs": [
    {
     "name": "stdout",
     "output_type": "stream",
     "text": [
      "[[ 4.12310563  0.          0.        ]\n",
      " [ 0.72760688  4.05839725  0.        ]\n",
      " [ 2.42535625 -0.92763366  2.29284602]]\n",
      "[ 7.77156117e-16 -2.01227923e-16 -7.77156117e-16]\n"
     ]
    }
   ],
   "source": [
    "A=np.array([[17,3,10],[3,17,-2],[10,-2,12]],float)\n",
    "x=np.random.rand(3)\n",
    "b=np.dot(A,x)\n",
    "\n",
    "C=cholesky(A)\n",
    "print(C)\n",
    "y=sol_niztr(C,b)\n",
    "sol=sol_vertr(C.transpose(),y)\n",
    "print(x - sol)"
   ]
  }
 ],
 "metadata": {
  "kernelspec": {
   "display_name": "Python 3",
   "language": "python",
   "name": "python3"
  },
  "language_info": {
   "codemirror_mode": {
    "name": "ipython",
    "version": 3
   },
   "file_extension": ".py",
   "mimetype": "text/x-python",
   "name": "python",
   "nbconvert_exporter": "python",
   "pygments_lexer": "ipython3",
   "version": "3.7.3"
  }
 },
 "nbformat": 4,
 "nbformat_minor": 4
}
