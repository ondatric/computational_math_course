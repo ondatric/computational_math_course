{
 "cells": [
  {
   "cell_type": "code",
   "execution_count": 3,
   "metadata": {},
   "outputs": [],
   "source": [
    "import numpy as np"
   ]
  },
  {
   "cell_type": "code",
   "execution_count": 4,
   "metadata": {},
   "outputs": [],
   "source": [
    "def gauss(x):\n",
    "    x = np.array(x, float)\n",
    "    return x[1:]/x[0]\n",
    "\n",
    "def gauss_app(C, t):\n",
    "    C = np.array(C, float)\n",
    "    t = np.array([[t[i]] for i in range(len(t))], float)\n",
    "    C[1:, :] = C[1:, :] - t*C[0, :]\n",
    "    return C\n",
    "\n",
    "def lu(A):\n",
    "    LU = np.array(A, float)\n",
    "    for k in range(LU.shape[0]-1):\n",
    "        t = gauss(LU[k:, k])\n",
    "        LU[k+1:, k] = t\n",
    "        LU[k:, k+1:] = gauss_app(LU[k:, k+1:], t)\n",
    "    return LU\n",
    "\n",
    "def solve_lu(A, b):\n",
    "    LU = lu(A)\n",
    "    b = np.array(b, float)\n",
    "    for i in range(1, len(b)):\n",
    "        b[i] = b[i] - np.dot(LU[i, :i], b[:i])\n",
    "    for i in range(len(b)-1, -1, -1):\n",
    "        b[i] = (b[i] - np.dot(LU[i, i+1:], b[i+1:]))/LU[i, i]\n",
    "    return b"
   ]
  },
  {
   "cell_type": "code",
   "execution_count": 7,
   "metadata": {},
   "outputs": [
    {
     "data": {
      "text/plain": [
       "array([1.875, 3.625, 5.25 , 6.75 ])"
      ]
     },
     "execution_count": 7,
     "metadata": {},
     "output_type": "execute_result"
    }
   ],
   "source": [
    "n=4\n",
    "A = np.zeros([n,n])\n",
    "for i in range(n):\n",
    "    A[i,i] = 2\n",
    "for i in range(n-1):\n",
    "    A[i+1, i] = A[i, i+1] = -1\n",
    "h = 1/n\n",
    "b = np.append([2*h**2 for _ in range(n-1)], [-(n-1)*h*(1-(n-1)/h)]);\n",
    "expected = np.array([i*h*(1-i*h) for i in range(n)]);\n",
    "solve_lu(A, b)"
   ]
  },
  {
   "cell_type": "code",
   "execution_count": 8,
   "metadata": {},
   "outputs": [
    {
     "data": {
      "text/plain": [
       "array([0.    , 0.1875, 0.25  , 0.1875])"
      ]
     },
     "execution_count": 8,
     "metadata": {},
     "output_type": "execute_result"
    }
   ],
   "source": [
    "expected"
   ]
  }
 ],
 "metadata": {
  "kernelspec": {
   "display_name": "Python 3",
   "language": "python",
   "name": "python3"
  },
  "language_info": {
   "codemirror_mode": {
    "name": "ipython",
    "version": 3
   },
   "file_extension": ".py",
   "mimetype": "text/x-python",
   "name": "python",
   "nbconvert_exporter": "python",
   "pygments_lexer": "ipython3",
   "version": "3.7.3"
  }
 },
 "nbformat": 4,
 "nbformat_minor": 4
}
