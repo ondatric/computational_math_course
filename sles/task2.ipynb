{
 "cells": [
  {
   "cell_type": "code",
   "execution_count": 23,
   "metadata": {},
   "outputs": [],
   "source": [
    "import numpy as np"
   ]
  },
  {
   "cell_type": "code",
   "execution_count": 24,
   "metadata": {},
   "outputs": [],
   "source": [
    "def gauss(x):\n",
    "    x = np.array(x,float)\n",
    "    return x[1:]/x[0]\n",
    "\n",
    "\n",
    "def gauss_app(C, t):\n",
    "    C = np.array(C, float)\n",
    "    t = np.array([[t[i]] for i in range(len(t))], float)\n",
    "    C[1:,:] = C[1:,:] - t*C[0,:]\n",
    "    return C\n",
    "\n",
    "\n",
    "def LU_part(A):\n",
    "    A=np.array(A,float)\n",
    "    for k in range(0,len(A)-1,1):\n",
    "        piv[k]=list(A[k:,k]).index(max(A[k:,k]))\n",
    "        ch = np.array(A[k,k:len(A)],float)\n",
    "        \n",
    "        A[k,k:len(A)] = A[int(piv[k]),k:len(A)]\n",
    "        A[int(piv[k]),k:len(A)] = ch\n",
    "        \n",
    "        if A[k,k]!=0:\n",
    "            t=gauss(A[k:,k])\n",
    "            \n",
    "        A[k+1:,k]=t\n",
    "        A[k:,k+1:]=gauss_app(A[k:,k+1:],t)\n",
    "    return A\n",
    "\n",
    "def LU_solve(A,b):\n",
    "\n",
    "    C=LU_part(A)\n",
    "    ch1=np.zeros(len(A),float)\n",
    "    \n",
    "    M=[]\n",
    "    E=[]\n",
    "    \n",
    "    for i in range (len(A)+1):\n",
    "        M.append(np.identity(len(A),float))\n",
    "        E.append(np.identity(len(A),float))\n",
    "        \n",
    "    for j in range(0,len(A)-1,1):\n",
    "        ch1[:]=E[j][j,:]\n",
    "        E[j][j,:]=E[j][int(piv[j]),:]\n",
    "        E[j][int(piv[j]),:]=ch1[:]\n",
    "        \n",
    "    for k in range(1,len(A)):\n",
    "        M[k-1][k:,k-1]=-np.dot(E[k],C)[k:,k-1]\n",
    "        \n",
    "    U=np.array(A,float)\n",
    "    y=np.array(b,float)\n",
    "    \n",
    "    for t in range(0,len(A)-1):\n",
    "        U=np.dot(M[t],np.dot(E[t],U))\n",
    "        y=np.dot(M[t],np.dot(E[t],y))\n",
    "        \n",
    "    r=np.zeros(len(A),float)\n",
    "    \n",
    "    for i in range (len(A),0,-1):\n",
    "        temp=0\n",
    "        \n",
    "        for j in range (i,len(A),1):\n",
    "            temp=temp+U[i-1,j]*r[j]\n",
    "            \n",
    "        r[i-1]=(y[i-1]-temp)/U[i-1,i-1]\n",
    "        \n",
    "    return r\n",
    "    "
   ]
  },
  {
   "cell_type": "code",
   "execution_count": 25,
   "metadata": {},
   "outputs": [
    {
     "data": {
      "text/plain": [
       "array([-1.11022302e-16,  0.00000000e+00,  0.00000000e+00])"
      ]
     },
     "execution_count": 25,
     "metadata": {},
     "output_type": "execute_result"
    }
   ],
   "source": [
    "A=np.array([[3,17,10],[2,4,-2],[6,18,-12]],float)\n",
    "x=np.random.rand(3)\n",
    "b=np.dot(A,x)\n",
    "piv=np.zeros(len(A)-1,float)\n",
    "x - LU_solve(A,b)"
   ]
  }
 ],
 "metadata": {
  "kernelspec": {
   "display_name": "Python 3",
   "language": "python",
   "name": "python3"
  },
  "language_info": {
   "codemirror_mode": {
    "name": "ipython",
    "version": 3
   },
   "file_extension": ".py",
   "mimetype": "text/x-python",
   "name": "python",
   "nbconvert_exporter": "python",
   "pygments_lexer": "ipython3",
   "version": "3.7.3"
  }
 },
 "nbformat": 4,
 "nbformat_minor": 4
}
